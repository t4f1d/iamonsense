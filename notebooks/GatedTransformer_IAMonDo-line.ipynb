{
 "cells": [
  {
   "cell_type": "markdown",
   "metadata": {
    "id": "3ZIARqn51zrY"
   },
   "source": [
    "# Setup"
   ]
  },
  {
   "cell_type": "code",
   "execution_count": 1,
   "metadata": {},
   "outputs": [
    {
     "name": "stderr",
     "output_type": "stream",
     "text": [
      "2022-10-03 14:30:14.167397: W tensorflow/stream_executor/platform/default/dso_loader.cc:64] Could not load dynamic library 'libcudart.so.11.0'; dlerror: libcudart.so.11.0: cannot open shared object file: No such file or directory; LD_LIBRARY_PATH: /usr/lib64/mysql-workbench:/usr/lib64/mysql-workbench\n",
      "2022-10-03 14:30:14.167435: I tensorflow/stream_executor/cuda/cudart_stub.cc:29] Ignore above cudart dlerror if you do not have a GPU set up on your machine.\n"
     ]
    }
   ],
   "source": [
    "base_path = \"../\"\n",
    "src_path = base_path+\"src/\"\n",
    "exec(open(src_path+\"loader.py\").read()) # read loader\n",
    "exec(open(src_path+\"loader_transformer.py\").read()) # read loader"
   ]
  },
  {
   "cell_type": "markdown",
   "metadata": {
    "id": "4GTTuRUj2Coz"
   },
   "source": [
    "# Prepare Data"
   ]
  },
  {
   "cell_type": "code",
   "execution_count": 2,
   "metadata": {
    "id": "W-36G7XV8V9o"
   },
   "outputs": [],
   "source": [
    "def loadDataset(name,level=\"stroke\"):\n",
    "  file_list = data_path + name +'_train.csv', data_path + name +'_val.csv', data_path + name +'_test.csv'\n",
    "  train,val,test = getList(file_list)\n",
    "\n",
    "  print(\"Preparing Train Data...\")\n",
    "  train_bar = tqdm( train )\n",
    "  for file_name in train_bar:\n",
    "    train_bar.set_postfix({'file': file_name})\n",
    "    \n",
    "    # # undersampling class text with probability x,xx to add\n",
    "    # add_data = undersampling(file_name, name)\n",
    "    # if(not add_data):\n",
    "    #   continue #skip\n",
    "\n",
    "    # add data\n",
    "    data_xy, classes = prepData(file_name, level)\n",
    "    if 'x_train' in locals():\n",
    "      x_train = np.append(x_train, data_xy, axis=0)\n",
    "      y_train = np.append(y_train, classes, axis=0)\n",
    "    else:\n",
    "      x_train = data_xy\n",
    "      y_train = classes\n",
    "\n",
    "\n",
    "    # # uppersampling class2\n",
    "    # is_graph = class2(file_name)\n",
    "    # if (is_graph):\n",
    "    #   loop = loopCount(file_name, name)\n",
    "    #   for i in range(loop):\n",
    "    #     data_xy, classes = prepData(file_name, level, rotate=True)\n",
    "    #     x_train = np.append(x_train, data_xy, axis=0)\n",
    "    #     y_train = np.append(y_train, classes, axis=0)\n",
    "\n",
    "\n",
    "\n",
    "  print(\"Preparing Validation Data...\")\n",
    "  val_bar = tqdm( val )\n",
    "  for file_name in val_bar:\n",
    "    val_bar.set_postfix({'file': file_name})\n",
    "\n",
    "  #   # undersampling class text with probability x,xx to add\n",
    "  #   add_data = undersampling(file_name, name)\n",
    "  #   if(not add_data):\n",
    "  #     continue #skip\n",
    "\n",
    "    # add data\n",
    "    data_xy, classes = prepData(file_name, level)\n",
    "    if 'x_val' in locals():\n",
    "      x_val = np.append(x_val, data_xy, axis=0)\n",
    "      y_val = np.append(y_val, classes, axis=0)\n",
    "    else:\n",
    "      x_val = data_xy\n",
    "      y_val = classes\n",
    "\n",
    "  #   # uppersampling class2\n",
    "  #   is_graph = class2(file_name)\n",
    "  #   if (is_graph):\n",
    "  #     loop = loopCount(file_name, name)\n",
    "  #     for i in range(loop):\n",
    "  #       data_xy, classes = prepData(file_name, level, rotate=True)\n",
    "  #       x_val = np.append(x_val, data_xy, axis=0)\n",
    "  #       y_val = np.append(y_val, classes, axis=0)\n",
    "\n",
    "\n",
    "\n",
    "  print(\"Preparing Test Data...\")\n",
    "  test_bar = tqdm( test )\n",
    "  for file_name in test_bar:\n",
    "    test_bar.set_postfix({'file': file_name})\n",
    "\n",
    "  #   # undersampling class text with probability x,xx to add\n",
    "  #   add_data = undersampling(file_name, name)\n",
    "  #   if(not add_data):\n",
    "  #     continue #skip\n",
    "\n",
    "    # add data\n",
    "    data_xy, classes = prepData(file_name, level)\n",
    "    if 'x_test' in locals():\n",
    "      x_test = np.append(x_test, data_xy, axis=0)\n",
    "      y_test = np.append(y_test, classes, axis=0)\n",
    "    else:\n",
    "      x_test = data_xy\n",
    "      y_test = classes\n",
    "\n",
    "  #   # uppersampling class2\n",
    "  #   is_graph = class2(file_name)\n",
    "  #   if (is_graph):\n",
    "  #     loop = loopCount(file_name, name)\n",
    "  #     for i in range(loop):\n",
    "  #       data_xy, classes = prepData(file_name, level, rotate=True)\n",
    "  #       x_test = np.append(x_test, data_xy, axis=0)\n",
    "  #       y_test = np.append(y_test, classes, axis=0)\n",
    "\n",
    "\n",
    "\n",
    "\n",
    "  data_train = list(zip(x_train, y_train))\n",
    "  data_val = list(zip(x_val, y_val))\n",
    "  data_test = list(zip(x_test, y_test))\n",
    "  \n",
    "  \n",
    "  return x_train, y_train, x_val, y_val, x_test, y_test"
   ]
  },
  {
   "cell_type": "markdown",
   "metadata": {
    "id": "lJkiladtjE74"
   },
   "source": [
    "# Data"
   ]
  },
  {
   "cell_type": "code",
   "execution_count": 3,
   "metadata": {
    "colab": {
     "base_uri": "https://localhost:8080/"
    },
    "id": "zMw8zgCj1-Iy",
    "outputId": "33afafc6-e94f-41f4-b047-16143cfe161c"
   },
   "outputs": [
    {
     "name": "stdout",
     "output_type": "stream",
     "text": [
      "Preparing Train Data...\n"
     ]
    },
    {
     "name": "stderr",
     "output_type": "stream",
     "text": [
      "100%|████████████| 565/565 [1:09:00<00:00,  7.33s/it, file=['IAMonDo+/117.csv']]\n"
     ]
    },
    {
     "name": "stdout",
     "output_type": "stream",
     "text": [
      "Preparing Validation Data...\n"
     ]
    },
    {
     "name": "stderr",
     "output_type": "stream",
     "text": [
      "100%|██████████████| 188/188 [21:44<00:00,  6.94s/it, file=['IAMonDo+/110.csv']]\n"
     ]
    },
    {
     "name": "stdout",
     "output_type": "stream",
     "text": [
      "Preparing Test Data...\n"
     ]
    },
    {
     "name": "stderr",
     "output_type": "stream",
     "text": [
      "100%|██████████████| 188/188 [22:13<00:00,  7.09s/it, file=['IAMonDo+/226.csv']]\n"
     ]
    }
   ],
   "source": [
    "dataset = \"IAMonDo\"       # SenseThePen, IAM-OnDB, IAMonDo, all, SenseOnDo\n",
    "level = \"line_id\"     # stroke_id, word_id, line_id\n",
    "\n",
    "# load dataset\n",
    "x_train, y_train, x_val, y_val, x_test, y_test = loadDataset( dataset, level )"
   ]
  },
  {
   "cell_type": "markdown",
   "metadata": {
    "id": "SufkokGKq-Ye"
   },
   "source": [
    "# transformer"
   ]
  },
  {
   "cell_type": "code",
   "execution_count": 4,
   "metadata": {
    "id": "x7frWUIcq99Y"
   },
   "outputs": [],
   "source": [
    "def transformer_encoder(inputs, head_size, num_heads, ff_dim, dropout=0):\n",
    "    # Normalization and Attention\n",
    "    #x = layers.LayerNormalization(epsilon=1e-6)(inputs)\n",
    "    x = inputs\n",
    "    x = layers.MultiHeadAttention(\n",
    "        key_dim=head_size, num_heads=num_heads, dropout=dropout\n",
    "    )(x, x)\n",
    "    x = layers.Dropout(dropout)(x)\n",
    "    res = x + inputs\n",
    "\n",
    "    # Feed Forward Part\n",
    "    #x = layers.LayerNormalization(epsilon=1e-6)(res)\n",
    "    x = res\n",
    "    x = layers.Conv1D(filters=ff_dim, kernel_size=1, activation=\"relu\")(x)\n",
    "    x = layers.Dropout(dropout)(x)\n",
    "    x = layers.Conv1D(filters=inputs.shape[-1], kernel_size=1)(x)\n",
    "    return x + res\n"
   ]
  },
  {
   "cell_type": "code",
   "execution_count": 5,
   "metadata": {
    "id": "eFzPnasrrGeX"
   },
   "outputs": [],
   "source": [
    "def build_model(\n",
    "    input_shape,\n",
    "    head_size,\n",
    "    num_heads,\n",
    "    ff_dim,\n",
    "    num_transformer_blocks,\n",
    "    mlp_units,\n",
    "    n_classes,\n",
    "    dropout=0,\n",
    "    mlp_dropout=0,\n",
    "):\n",
    "    inputs = keras.Input(shape=input_shape)\n",
    "    x = inputs\n",
    "    \n",
    "    # 1DCNN\n",
    "    #x = keras.layers.Conv1D(128, 1, padding='valid', activation='relu', strides=1)(x)\n",
    "    x = keras.layers.Conv1D(512, 3, padding='valid', activation='relu', strides=1)(x)\n",
    "    x = layers.Dropout(dropout)(x)\n",
    "    x = keras.layers.Conv1D(256, 2, padding='valid', activation='relu', strides=1)(x)\n",
    "    x = layers.Dropout(dropout)(x)\n",
    "    x = keras.layers.Conv1D(128, 1, padding='valid', activation='relu', strides=1)(x)\n",
    "    x = layers.Dropout(dropout)(x)\n",
    "    \n",
    "    \n",
    "    for _ in range(num_transformer_blocks):\n",
    "        x = transformer_encoder(x, head_size, num_heads, ff_dim, dropout)\n",
    "    \n",
    "    x = keras.layers.Bidirectional(LSTM(64, return_sequences=True))(x)\n",
    "    x = keras.layers.Bidirectional(LSTM(64))(x)\n",
    "    #x = layers.GlobalAveragePooling1D(data_format=\"channels_first\")(x)\n",
    "    \n",
    "    \n",
    "    for dim in mlp_units:\n",
    "        x = layers.Dense(dim, activation=\"relu\")(x)\n",
    "        x = layers.Dropout(mlp_dropout)(x)\n",
    "    \n",
    "    outputs = layers.Dense(n_classes, activation=\"softmax\")(x)\n",
    "    return keras.Model(inputs, outputs)"
   ]
  },
  {
   "cell_type": "code",
   "execution_count": 6,
   "metadata": {
    "id": "xeVAQwbXz8Dw"
   },
   "outputs": [],
   "source": [
    "def visResultT(history):\n",
    "\tsns.set_theme(style=\"whitegrid\")\n",
    "\tval_loss = history.history['val_loss']\n",
    "\tloss = history.history['loss']\n",
    "\taccuracy = history.history['sparse_categorical_accuracy']\n",
    "\tval_accuracy = history.history['val_sparse_categorical_accuracy']\n",
    "\n",
    "\tepochs = range(1, len(accuracy) + 1)\n",
    "\n",
    "\tplt.rcParams['figure.figsize'] = [10, 5]\n",
    "\tplt.subplot(1, 2, 1)\n",
    "\tplt.plot(epochs, loss, label='Training loss')\n",
    "\tplt.plot(epochs,val_loss , label='Validation loss')\n",
    "\tplt.title('Training and validation loss')\n",
    "\tplt.xlabel('Epochs')\n",
    "\tplt.ylabel('Loss')\n",
    "\tplt.legend()\n",
    "\n",
    "\tplt.subplot(1, 2, 2)\n",
    "\tplt.plot(epochs, accuracy, label='Training acc')\n",
    "\tplt.plot(epochs, val_accuracy, label='Validation acc')\n",
    "\tplt.title('Training and validation accuracy')\n",
    "\tplt.xlabel('Epochs')\n",
    "\tplt.ylabel('Accuracy')\n",
    "\tplt.legend()\n",
    "\tplt.tight_layout()\n",
    "\tplt.show()"
   ]
  },
  {
   "cell_type": "code",
   "execution_count": 9,
   "metadata": {
    "id": "MKfCSO6DrI1_",
    "scrolled": false
   },
   "outputs": [
    {
     "name": "stdout",
     "output_type": "stream",
     "text": [
      "Model: \"model_2\"\n",
      "__________________________________________________________________________________________________\n",
      " Layer (type)                   Output Shape         Param #     Connected to                     \n",
      "==================================================================================================\n",
      " input_3 (InputLayer)           [(None, 4, 159)]     0           []                               \n",
      "                                                                                                  \n",
      " conv1d_22 (Conv1D)             (None, 2, 512)       244736      ['input_3[0][0]']                \n",
      "                                                                                                  \n",
      " dropout_24 (Dropout)           (None, 2, 512)       0           ['conv1d_22[0][0]']              \n",
      "                                                                                                  \n",
      " conv1d_23 (Conv1D)             (None, 1, 256)       262400      ['dropout_24[0][0]']             \n",
      "                                                                                                  \n",
      " dropout_25 (Dropout)           (None, 1, 256)       0           ['conv1d_23[0][0]']              \n",
      "                                                                                                  \n",
      " conv1d_24 (Conv1D)             (None, 1, 128)       32896       ['dropout_25[0][0]']             \n",
      "                                                                                                  \n",
      " dropout_26 (Dropout)           (None, 1, 128)       0           ['conv1d_24[0][0]']              \n",
      "                                                                                                  \n",
      " multi_head_attention_8 (MultiH  (None, 1, 128)      329728      ['dropout_26[0][0]',             \n",
      " eadAttention)                                                    'dropout_26[0][0]']             \n",
      "                                                                                                  \n",
      " dropout_27 (Dropout)           (None, 1, 128)       0           ['multi_head_attention_8[0][0]'] \n",
      "                                                                                                  \n",
      " tf.__operators__.add_16 (TFOpL  (None, 1, 128)      0           ['dropout_27[0][0]',             \n",
      " ambda)                                                           'dropout_26[0][0]']             \n",
      "                                                                                                  \n",
      " conv1d_25 (Conv1D)             (None, 1, 4)         516         ['tf.__operators__.add_16[0][0]']\n",
      "                                                                                                  \n",
      " dropout_28 (Dropout)           (None, 1, 4)         0           ['conv1d_25[0][0]']              \n",
      "                                                                                                  \n",
      " conv1d_26 (Conv1D)             (None, 1, 128)       640         ['dropout_28[0][0]']             \n",
      "                                                                                                  \n",
      " tf.__operators__.add_17 (TFOpL  (None, 1, 128)      0           ['conv1d_26[0][0]',              \n",
      " ambda)                                                           'tf.__operators__.add_16[0][0]']\n",
      "                                                                                                  \n",
      " multi_head_attention_9 (MultiH  (None, 1, 128)      329728      ['tf.__operators__.add_17[0][0]',\n",
      " eadAttention)                                                    'tf.__operators__.add_17[0][0]']\n",
      "                                                                                                  \n",
      " dropout_29 (Dropout)           (None, 1, 128)       0           ['multi_head_attention_9[0][0]'] \n",
      "                                                                                                  \n",
      " tf.__operators__.add_18 (TFOpL  (None, 1, 128)      0           ['dropout_29[0][0]',             \n",
      " ambda)                                                           'tf.__operators__.add_17[0][0]']\n",
      "                                                                                                  \n",
      " conv1d_27 (Conv1D)             (None, 1, 4)         516         ['tf.__operators__.add_18[0][0]']\n",
      "                                                                                                  \n",
      " dropout_30 (Dropout)           (None, 1, 4)         0           ['conv1d_27[0][0]']              \n",
      "                                                                                                  \n",
      " conv1d_28 (Conv1D)             (None, 1, 128)       640         ['dropout_30[0][0]']             \n",
      "                                                                                                  \n",
      " tf.__operators__.add_19 (TFOpL  (None, 1, 128)      0           ['conv1d_28[0][0]',              \n",
      " ambda)                                                           'tf.__operators__.add_18[0][0]']\n",
      "                                                                                                  \n",
      " multi_head_attention_10 (Multi  (None, 1, 128)      329728      ['tf.__operators__.add_19[0][0]',\n",
      " HeadAttention)                                                   'tf.__operators__.add_19[0][0]']\n",
      "                                                                                                  \n",
      " dropout_31 (Dropout)           (None, 1, 128)       0           ['multi_head_attention_10[0][0]']\n",
      "                                                                                                  \n",
      " tf.__operators__.add_20 (TFOpL  (None, 1, 128)      0           ['dropout_31[0][0]',             \n",
      " ambda)                                                           'tf.__operators__.add_19[0][0]']\n",
      "                                                                                                  \n",
      " conv1d_29 (Conv1D)             (None, 1, 4)         516         ['tf.__operators__.add_20[0][0]']\n",
      "                                                                                                  \n",
      " dropout_32 (Dropout)           (None, 1, 4)         0           ['conv1d_29[0][0]']              \n",
      "                                                                                                  \n",
      " conv1d_30 (Conv1D)             (None, 1, 128)       640         ['dropout_32[0][0]']             \n",
      "                                                                                                  \n",
      " tf.__operators__.add_21 (TFOpL  (None, 1, 128)      0           ['conv1d_30[0][0]',              \n",
      " ambda)                                                           'tf.__operators__.add_20[0][0]']\n",
      "                                                                                                  \n",
      " multi_head_attention_11 (Multi  (None, 1, 128)      329728      ['tf.__operators__.add_21[0][0]',\n",
      " HeadAttention)                                                   'tf.__operators__.add_21[0][0]']\n",
      "                                                                                                  \n",
      " dropout_33 (Dropout)           (None, 1, 128)       0           ['multi_head_attention_11[0][0]']\n",
      "                                                                                                  \n",
      " tf.__operators__.add_22 (TFOpL  (None, 1, 128)      0           ['dropout_33[0][0]',             \n",
      " ambda)                                                           'tf.__operators__.add_21[0][0]']\n",
      "                                                                                                  \n",
      " conv1d_31 (Conv1D)             (None, 1, 4)         516         ['tf.__operators__.add_22[0][0]']\n",
      "                                                                                                  \n",
      " dropout_34 (Dropout)           (None, 1, 4)         0           ['conv1d_31[0][0]']              \n",
      "                                                                                                  \n",
      " conv1d_32 (Conv1D)             (None, 1, 128)       640         ['dropout_34[0][0]']             \n",
      "                                                                                                  \n",
      " tf.__operators__.add_23 (TFOpL  (None, 1, 128)      0           ['conv1d_32[0][0]',              \n"
     ]
    },
    {
     "name": "stdout",
     "output_type": "stream",
     "text": [
      " ambda)                                                           'tf.__operators__.add_22[0][0]']\n",
      "                                                                                                  \n",
      " bidirectional_4 (Bidirectional  (None, 1, 128)      98816       ['tf.__operators__.add_23[0][0]']\n",
      " )                                                                                                \n",
      "                                                                                                  \n",
      " bidirectional_5 (Bidirectional  (None, 128)         98816       ['bidirectional_4[0][0]']        \n",
      " )                                                                                                \n",
      "                                                                                                  \n",
      " dense_4 (Dense)                (None, 128)          16512       ['bidirectional_5[0][0]']        \n",
      "                                                                                                  \n",
      " dropout_35 (Dropout)           (None, 128)          0           ['dense_4[0][0]']                \n",
      "                                                                                                  \n",
      " dense_5 (Dense)                (None, 3)            387         ['dropout_35[0][0]']             \n",
      "                                                                                                  \n",
      "==================================================================================================\n",
      "Total params: 2,078,099\n",
      "Trainable params: 2,078,099\n",
      "Non-trainable params: 0\n",
      "__________________________________________________________________________________________________\n",
      "Epoch 1/100\n",
      "351/351 [==============================] - 22s 34ms/step - loss: 0.4748 - sparse_categorical_accuracy: 0.8153 - val_loss: 0.2756 - val_sparse_categorical_accuracy: 0.8901\n",
      "Epoch 2/100\n",
      "351/351 [==============================] - 10s 29ms/step - loss: 0.2590 - sparse_categorical_accuracy: 0.9068 - val_loss: 0.2233 - val_sparse_categorical_accuracy: 0.9197\n",
      "Epoch 3/100\n",
      "351/351 [==============================] - 10s 29ms/step - loss: 0.2214 - sparse_categorical_accuracy: 0.9239 - val_loss: 0.2169 - val_sparse_categorical_accuracy: 0.9239\n",
      "Epoch 4/100\n",
      "351/351 [==============================] - 10s 29ms/step - loss: 0.1963 - sparse_categorical_accuracy: 0.9316 - val_loss: 0.2419 - val_sparse_categorical_accuracy: 0.9215\n",
      "Epoch 5/100\n",
      "351/351 [==============================] - 10s 29ms/step - loss: 0.1830 - sparse_categorical_accuracy: 0.9363 - val_loss: 0.1930 - val_sparse_categorical_accuracy: 0.9331\n",
      "Epoch 6/100\n",
      "351/351 [==============================] - 10s 29ms/step - loss: 0.1777 - sparse_categorical_accuracy: 0.9416 - val_loss: 0.1954 - val_sparse_categorical_accuracy: 0.9323\n",
      "Epoch 7/100\n",
      "351/351 [==============================] - 10s 29ms/step - loss: 0.1630 - sparse_categorical_accuracy: 0.9472 - val_loss: 0.1957 - val_sparse_categorical_accuracy: 0.9320\n",
      "Epoch 8/100\n",
      "351/351 [==============================] - 10s 29ms/step - loss: 0.1447 - sparse_categorical_accuracy: 0.9515 - val_loss: 0.2009 - val_sparse_categorical_accuracy: 0.9357\n",
      "Epoch 9/100\n",
      "351/351 [==============================] - 9s 27ms/step - loss: 0.1434 - sparse_categorical_accuracy: 0.9532 - val_loss: 0.1956 - val_sparse_categorical_accuracy: 0.9323\n",
      "Epoch 10/100\n",
      "351/351 [==============================] - 10s 27ms/step - loss: 0.1326 - sparse_categorical_accuracy: 0.9575 - val_loss: 0.1928 - val_sparse_categorical_accuracy: 0.9352\n",
      "Epoch 11/100\n",
      "351/351 [==============================] - 10s 27ms/step - loss: 0.1298 - sparse_categorical_accuracy: 0.9578 - val_loss: 0.1951 - val_sparse_categorical_accuracy: 0.9328\n",
      "Epoch 12/100\n",
      "351/351 [==============================] - 10s 29ms/step - loss: 0.1186 - sparse_categorical_accuracy: 0.9619 - val_loss: 0.2267 - val_sparse_categorical_accuracy: 0.9281\n",
      "Epoch 13/100\n",
      "351/351 [==============================] - 10s 29ms/step - loss: 0.1196 - sparse_categorical_accuracy: 0.9634 - val_loss: 0.1874 - val_sparse_categorical_accuracy: 0.9384\n",
      "Epoch 14/100\n",
      "351/351 [==============================] - 10s 28ms/step - loss: 0.1149 - sparse_categorical_accuracy: 0.9643 - val_loss: 0.1958 - val_sparse_categorical_accuracy: 0.9407\n",
      "Epoch 15/100\n",
      "351/351 [==============================] - 10s 29ms/step - loss: 0.1130 - sparse_categorical_accuracy: 0.9635 - val_loss: 0.1830 - val_sparse_categorical_accuracy: 0.9407\n",
      "Epoch 16/100\n",
      "351/351 [==============================] - 10s 29ms/step - loss: 0.1188 - sparse_categorical_accuracy: 0.9617 - val_loss: 0.2251 - val_sparse_categorical_accuracy: 0.9391\n",
      "Epoch 17/100\n",
      "351/351 [==============================] - 10s 29ms/step - loss: 0.1083 - sparse_categorical_accuracy: 0.9638 - val_loss: 0.2457 - val_sparse_categorical_accuracy: 0.9357\n",
      "Epoch 18/100\n",
      "351/351 [==============================] - 10s 28ms/step - loss: 0.1119 - sparse_categorical_accuracy: 0.9621 - val_loss: 0.2160 - val_sparse_categorical_accuracy: 0.9312\n",
      "Epoch 19/100\n",
      "351/351 [==============================] - 10s 29ms/step - loss: 0.1012 - sparse_categorical_accuracy: 0.9674 - val_loss: 0.2453 - val_sparse_categorical_accuracy: 0.9341\n",
      "Epoch 20/100\n",
      "351/351 [==============================] - 10s 30ms/step - loss: 0.0985 - sparse_categorical_accuracy: 0.9683 - val_loss: 0.2286 - val_sparse_categorical_accuracy: 0.9339\n",
      "Epoch 21/100\n",
      "351/351 [==============================] - 10s 29ms/step - loss: 0.1002 - sparse_categorical_accuracy: 0.9689 - val_loss: 0.2305 - val_sparse_categorical_accuracy: 0.9391\n",
      "Epoch 22/100\n",
      "351/351 [==============================] - 10s 28ms/step - loss: 0.1021 - sparse_categorical_accuracy: 0.9683 - val_loss: 0.2099 - val_sparse_categorical_accuracy: 0.9376\n",
      "Epoch 23/100\n",
      "351/351 [==============================] - 10s 29ms/step - loss: 0.1016 - sparse_categorical_accuracy: 0.9688 - val_loss: 0.2103 - val_sparse_categorical_accuracy: 0.9378\n",
      "Epoch 24/100\n",
      "351/351 [==============================] - 10s 29ms/step - loss: 0.0900 - sparse_categorical_accuracy: 0.9731 - val_loss: 0.2611 - val_sparse_categorical_accuracy: 0.9344\n",
      "Epoch 25/100\n",
      "351/351 [==============================] - 10s 30ms/step - loss: 0.0977 - sparse_categorical_accuracy: 0.9708 - val_loss: 0.2410 - val_sparse_categorical_accuracy: 0.9305\n",
      "115/115 [==============================] - 1s 9ms/step - loss: 0.2071 - sparse_categorical_accuracy: 0.9280\n",
      "Test loss: 0.20714683830738068\n",
      "Test accuracy: 0.928043782711029\n"
     ]
    },
    {
     "data": {
      "image/png": "[encoded data removed]",
      "text/plain": [
       "<Figure size 720x360 with 2 Axes>"
      ]
     },
     "metadata": {},
     "output_type": "display_data"
    },
    {
     "name": "stdout",
     "output_type": "stream",
     "text": [
      "[[2392    0  170]\n",
      " [   0   93    0]\n",
      " [  91    2  907]]\n",
      "[[0.93364559 0.         0.06635441]\n",
      " [0.         1.         0.        ]\n",
      " [0.091      0.002      0.907     ]]\n"
     ]
    },
    {
     "data": {
      "image/png": "[encoded data removed]",
      "text/plain": [
       "<Figure size 720x360 with 2 Axes>"
      ]
     },
     "metadata": {},
     "output_type": "display_data"
    }
   ],
   "source": [
    "input_shape = x_train.shape[1:]\n",
    "\n",
    "model = build_model(\n",
    "    input_shape,\n",
    "    head_size=128,\n",
    "    num_heads=5, #2,5\n",
    "    ff_dim=4, # Hidden layer size in feed forward network inside transformer\n",
    "    num_transformer_blocks=4,\n",
    "    mlp_units=[128], #128\n",
    "    n_classes=3,\n",
    "    mlp_dropout=0.2, #0.4,0.2\n",
    "    dropout=0.1, #0.25,0.1\n",
    ")\n",
    "\n",
    "model.compile(\n",
    "    loss=\"sparse_categorical_crossentropy\",\n",
    "    optimizer=keras.optimizers.Adam(learning_rate=1e-4),\n",
    "    metrics=[\"sparse_categorical_accuracy\"],\n",
    ")\n",
    "model.summary()\n",
    "\n",
    "callbacks = [keras.callbacks.EarlyStopping(patience=10, restore_best_weights=True)]\n",
    "\n",
    "history = model.fit(\n",
    "    x_train,\n",
    "    y_train,\n",
    "    #validation_split=0.2,\n",
    "    validation_data=(x_val, y_val),\n",
    "    epochs=100,\n",
    "    batch_size=32, #64, 32, 16, 8\n",
    "    callbacks=callbacks,\n",
    ")\n",
    "history_dict = history.history\n",
    "history_dict.keys()\n",
    "\n",
    "# Evaluation\n",
    "results = model.evaluate(x_test, y_test, verbose=1)\n",
    "#print (\"Accuracy on test set:\" , results)\n",
    "print('Test loss:', results[0])\n",
    "print('Test accuracy:', results[1])\n",
    "\n",
    "# Visualization\n",
    "visResultT(history)\n",
    "\n",
    "# Confusion Matrix\n",
    "visConfusionMatrix(model, x_test, y_test)"
   ]
  },
  {
   "cell_type": "code",
   "execution_count": null,
   "metadata": {},
   "outputs": [],
   "source": []
  }
 ],
 "metadata": {
  "colab": {
   "collapsed_sections": [],
   "provenance": []
  },
  "kernelspec": {
   "display_name": "Python 3 (ipykernel)",
   "language": "python",
   "name": "python3"
  },
  "language_info": {
   "codemirror_mode": {
    "name": "ipython",
    "version": 3
   },
   "file_extension": ".py",
   "mimetype": "text/x-python",
   "name": "python",
   "nbconvert_exporter": "python",
   "pygments_lexer": "ipython3",
   "version": "3.9.7"
  }
 },
 "nbformat": 4,
 "nbformat_minor": 1
}
