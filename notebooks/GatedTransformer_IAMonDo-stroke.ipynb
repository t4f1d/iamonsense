{
 "cells": [
  {
   "cell_type": "markdown",
   "metadata": {
    "id": "3ZIARqn51zrY"
   },
   "source": [
    "# Setup"
   ]
  },
  {
   "cell_type": "code",
   "execution_count": 1,
   "metadata": {},
   "outputs": [
    {
     "name": "stderr",
     "output_type": "stream",
     "text": [
      "2022-10-03 22:09:04.420785: W tensorflow/stream_executor/platform/default/dso_loader.cc:64] Could not load dynamic library 'libcudart.so.11.0'; dlerror: libcudart.so.11.0: cannot open shared object file: No such file or directory; LD_LIBRARY_PATH: /usr/lib64/mysql-workbench:/usr/lib64/mysql-workbench\n",
      "2022-10-03 22:09:04.420824: I tensorflow/stream_executor/cuda/cudart_stub.cc:29] Ignore above cudart dlerror if you do not have a GPU set up on your machine.\n"
     ]
    }
   ],
   "source": [
    "base_path = \"../\"\n",
    "src_path = base_path+\"src/\"\n",
    "exec(open(src_path+\"loader.py\").read()) # read loader\n",
    "exec(open(src_path+\"loader_transformer.py\").read()) # read loader"
   ]
  },
  {
   "cell_type": "markdown",
   "metadata": {
    "id": "4GTTuRUj2Coz"
   },
   "source": [
    "# Prepare Data"
   ]
  },
  {
   "cell_type": "code",
   "execution_count": 2,
   "metadata": {
    "id": "W-36G7XV8V9o"
   },
   "outputs": [],
   "source": [
    "def loadDataset(name,level=\"stroke\"):\n",
    "  file_list = data_path + name +'_train.csv', data_path + name +'_val.csv', data_path + name +'_test.csv'\n",
    "  train,val,test = getList(file_list)\n",
    "\n",
    "  print(\"Preparing Train Data...\")\n",
    "  train_bar = tqdm( train )\n",
    "  for file_name in train_bar:\n",
    "    train_bar.set_postfix({'file': file_name})\n",
    "    \n",
    "    # # undersampling class text with probability x,xx to add\n",
    "    # add_data = undersampling(file_name, name)\n",
    "    # if(not add_data):\n",
    "    #   continue #skip\n",
    "\n",
    "    # add data\n",
    "    data_xy, classes = prepData(file_name, level)\n",
    "    if 'x_train' in locals():\n",
    "      x_train = np.append(x_train, data_xy, axis=0)\n",
    "      y_train = np.append(y_train, classes, axis=0)\n",
    "    else:\n",
    "      x_train = data_xy\n",
    "      y_train = classes\n",
    "\n",
    "\n",
    "    # # uppersampling class2\n",
    "    # is_graph = class2(file_name)\n",
    "    # if (is_graph):\n",
    "    #   loop = loopCount(file_name, name)\n",
    "    #   for i in range(loop):\n",
    "    #     data_xy, classes = prepData(file_name, level, rotate=True)\n",
    "    #     x_train = np.append(x_train, data_xy, axis=0)\n",
    "    #     y_train = np.append(y_train, classes, axis=0)\n",
    "\n",
    "\n",
    "\n",
    "  print(\"Preparing Validation Data...\")\n",
    "  val_bar = tqdm( val )\n",
    "  for file_name in val_bar:\n",
    "    val_bar.set_postfix({'file': file_name})\n",
    "\n",
    "  #   # undersampling class text with probability x,xx to add\n",
    "  #   add_data = undersampling(file_name, name)\n",
    "  #   if(not add_data):\n",
    "  #     continue #skip\n",
    "\n",
    "    # add data\n",
    "    data_xy, classes = prepData(file_name, level)\n",
    "    if 'x_val' in locals():\n",
    "      x_val = np.append(x_val, data_xy, axis=0)\n",
    "      y_val = np.append(y_val, classes, axis=0)\n",
    "    else:\n",
    "      x_val = data_xy\n",
    "      y_val = classes\n",
    "\n",
    "  #   # uppersampling class2\n",
    "  #   is_graph = class2(file_name)\n",
    "  #   if (is_graph):\n",
    "  #     loop = loopCount(file_name, name)\n",
    "  #     for i in range(loop):\n",
    "  #       data_xy, classes = prepData(file_name, level, rotate=True)\n",
    "  #       x_val = np.append(x_val, data_xy, axis=0)\n",
    "  #       y_val = np.append(y_val, classes, axis=0)\n",
    "\n",
    "\n",
    "\n",
    "  print(\"Preparing Test Data...\")\n",
    "  test_bar = tqdm( test )\n",
    "  for file_name in test_bar:\n",
    "    test_bar.set_postfix({'file': file_name})\n",
    "\n",
    "  #   # undersampling class text with probability x,xx to add\n",
    "  #   add_data = undersampling(file_name, name)\n",
    "  #   if(not add_data):\n",
    "  #     continue #skip\n",
    "\n",
    "    # add data\n",
    "    data_xy, classes = prepData(file_name, level)\n",
    "    if 'x_test' in locals():\n",
    "      x_test = np.append(x_test, data_xy, axis=0)\n",
    "      y_test = np.append(y_test, classes, axis=0)\n",
    "    else:\n",
    "      x_test = data_xy\n",
    "      y_test = classes\n",
    "\n",
    "  #   # uppersampling class2\n",
    "  #   is_graph = class2(file_name)\n",
    "  #   if (is_graph):\n",
    "  #     loop = loopCount(file_name, name)\n",
    "  #     for i in range(loop):\n",
    "  #       data_xy, classes = prepData(file_name, level, rotate=True)\n",
    "  #       x_test = np.append(x_test, data_xy, axis=0)\n",
    "  #       y_test = np.append(y_test, classes, axis=0)\n",
    "\n",
    "\n",
    "\n",
    "\n",
    "  data_train = list(zip(x_train, y_train))\n",
    "  data_val = list(zip(x_val, y_val))\n",
    "  data_test = list(zip(x_test, y_test))\n",
    "  \n",
    "  \n",
    "  return x_train, y_train, x_val, y_val, x_test, y_test"
   ]
  },
  {
   "cell_type": "markdown",
   "metadata": {
    "id": "lJkiladtjE74"
   },
   "source": [
    "# Data"
   ]
  },
  {
   "cell_type": "code",
   "execution_count": 3,
   "metadata": {
    "colab": {
     "base_uri": "https://localhost:8080/"
    },
    "id": "zMw8zgCj1-Iy",
    "outputId": "33afafc6-e94f-41f4-b047-16143cfe161c"
   },
   "outputs": [
    {
     "name": "stdout",
     "output_type": "stream",
     "text": [
      "Preparing Train Data...\n"
     ]
    },
    {
     "name": "stderr",
     "output_type": "stream",
     "text": [
      "100%|████████████| 565/565 [1:05:54<00:00,  7.00s/it, file=['IAMonDo+/117.csv']]\n"
     ]
    },
    {
     "name": "stdout",
     "output_type": "stream",
     "text": [
      "Preparing Validation Data...\n"
     ]
    },
    {
     "name": "stderr",
     "output_type": "stream",
     "text": [
      "100%|██████████████| 188/188 [21:51<00:00,  6.98s/it, file=['IAMonDo+/110.csv']]\n"
     ]
    },
    {
     "name": "stdout",
     "output_type": "stream",
     "text": [
      "Preparing Test Data...\n"
     ]
    },
    {
     "name": "stderr",
     "output_type": "stream",
     "text": [
      "100%|██████████████| 188/188 [21:27<00:00,  6.85s/it, file=['IAMonDo+/226.csv']]\n"
     ]
    }
   ],
   "source": [
    "dataset = \"IAMonDo\"       # SenseThePen, IAM-OnDB, IAMonDo, all, SenseOnDo\n",
    "level = \"stroke_id\"     # stroke_id, word_id, line_id\n",
    "\n",
    "# load dataset\n",
    "x_train, y_train, x_val, y_val, x_test, y_test = loadDataset( dataset, level )"
   ]
  },
  {
   "cell_type": "markdown",
   "metadata": {
    "id": "SufkokGKq-Ye"
   },
   "source": [
    "# transformer"
   ]
  },
  {
   "cell_type": "code",
   "execution_count": 4,
   "metadata": {
    "id": "x7frWUIcq99Y"
   },
   "outputs": [],
   "source": [
    "def transformer_encoder(inputs, head_size, num_heads, ff_dim, dropout=0):\n",
    "    # Normalization and Attention\n",
    "    #x = layers.LayerNormalization(epsilon=1e-6)(inputs)\n",
    "    x = inputs\n",
    "    x = layers.MultiHeadAttention(\n",
    "        key_dim=head_size, num_heads=num_heads, dropout=dropout\n",
    "    )(x, x)\n",
    "    x = layers.Dropout(dropout)(x)\n",
    "    res = x + inputs\n",
    "\n",
    "    # Feed Forward Part\n",
    "    #x = layers.LayerNormalization(epsilon=1e-6)(res)\n",
    "    x = res\n",
    "    x = layers.Conv1D(filters=ff_dim, kernel_size=1, activation=\"relu\")(x)\n",
    "    x = layers.Dropout(dropout)(x)\n",
    "    x = layers.Conv1D(filters=inputs.shape[-1], kernel_size=1)(x)\n",
    "    return x + res\n"
   ]
  },
  {
   "cell_type": "code",
   "execution_count": 5,
   "metadata": {
    "id": "eFzPnasrrGeX"
   },
   "outputs": [],
   "source": [
    "def build_model(\n",
    "    input_shape,\n",
    "    head_size,\n",
    "    num_heads,\n",
    "    ff_dim,\n",
    "    num_transformer_blocks,\n",
    "    mlp_units,\n",
    "    n_classes,\n",
    "    dropout=0,\n",
    "    mlp_dropout=0,\n",
    "):\n",
    "    inputs = keras.Input(shape=input_shape)\n",
    "    x = inputs\n",
    "    \n",
    "    # 1DCNN\n",
    "    #x = keras.layers.Conv1D(128, 1, padding='valid', activation='relu', strides=1)(x)\n",
    "    x = keras.layers.Conv1D(512, 3, padding='valid', activation='relu', strides=1)(x)\n",
    "    x = layers.Dropout(dropout)(x)\n",
    "    x = keras.layers.Conv1D(256, 2, padding='valid', activation='relu', strides=1)(x)\n",
    "    x = layers.Dropout(dropout)(x)\n",
    "    x = keras.layers.Conv1D(128, 1, padding='valid', activation='relu', strides=1)(x)\n",
    "    x = layers.Dropout(dropout)(x)\n",
    "    \n",
    "    \n",
    "    for _ in range(num_transformer_blocks):\n",
    "        x = transformer_encoder(x, head_size, num_heads, ff_dim, dropout)\n",
    "    \n",
    "    x = keras.layers.Bidirectional(LSTM(64, return_sequences=True))(x)\n",
    "    x = keras.layers.Bidirectional(LSTM(64))(x)\n",
    "    #x = layers.GlobalAveragePooling1D(data_format=\"channels_first\")(x)\n",
    "    \n",
    "    \n",
    "    for dim in mlp_units:\n",
    "        x = layers.Dense(dim, activation=\"relu\")(x)\n",
    "        x = layers.Dropout(mlp_dropout)(x)\n",
    "    \n",
    "    outputs = layers.Dense(n_classes, activation=\"softmax\")(x)\n",
    "    return keras.Model(inputs, outputs)"
   ]
  },
  {
   "cell_type": "code",
   "execution_count": 6,
   "metadata": {
    "id": "xeVAQwbXz8Dw"
   },
   "outputs": [],
   "source": [
    "def visResultT(history):\n",
    "\tsns.set_theme(style=\"whitegrid\")\n",
    "\tval_loss = history.history['val_loss']\n",
    "\tloss = history.history['loss']\n",
    "\taccuracy = history.history['sparse_categorical_accuracy']\n",
    "\tval_accuracy = history.history['val_sparse_categorical_accuracy']\n",
    "\n",
    "\tepochs = range(1, len(accuracy) + 1)\n",
    "\n",
    "\tplt.rcParams['figure.figsize'] = [10, 5]\n",
    "\tplt.subplot(1, 2, 1)\n",
    "\tplt.plot(epochs, loss, label='Training loss')\n",
    "\tplt.plot(epochs,val_loss , label='Validation loss')\n",
    "\tplt.title('Training and validation loss')\n",
    "\tplt.xlabel('Epochs')\n",
    "\tplt.ylabel('Loss')\n",
    "\tplt.legend()\n",
    "\n",
    "\tplt.subplot(1, 2, 2)\n",
    "\tplt.plot(epochs, accuracy, label='Training acc')\n",
    "\tplt.plot(epochs, val_accuracy, label='Validation acc')\n",
    "\tplt.title('Training and validation accuracy')\n",
    "\tplt.xlabel('Epochs')\n",
    "\tplt.ylabel('Accuracy')\n",
    "\tplt.legend()\n",
    "\tplt.tight_layout()\n",
    "\tplt.show()"
   ]
  },
  {
   "cell_type": "code",
   "execution_count": 7,
   "metadata": {
    "id": "MKfCSO6DrI1_",
    "scrolled": false
   },
   "outputs": [
    {
     "name": "stderr",
     "output_type": "stream",
     "text": [
      "2022-10-03 23:58:26.843446: W tensorflow/stream_executor/platform/default/dso_loader.cc:64] Could not load dynamic library 'libcuda.so.1'; dlerror: libcuda.so.1: cannot open shared object file: No such file or directory; LD_LIBRARY_PATH: /usr/lib64/mysql-workbench:/usr/lib64/mysql-workbench\n",
      "2022-10-03 23:58:26.843483: W tensorflow/stream_executor/cuda/cuda_driver.cc:269] failed call to cuInit: UNKNOWN ERROR (303)\n",
      "2022-10-03 23:58:26.843517: I tensorflow/stream_executor/cuda/cuda_diagnostics.cc:156] kernel driver does not appear to be running on this host (head4): /proc/driver/nvidia/version does not exist\n",
      "2022-10-03 23:58:26.843816: I tensorflow/core/platform/cpu_feature_guard.cc:151] This TensorFlow binary is optimized with oneAPI Deep Neural Network Library (oneDNN) to use the following CPU instructions in performance-critical operations:  AVX2 AVX512F FMA\n",
      "To enable them in other operations, rebuild TensorFlow with the appropriate compiler flags.\n"
     ]
    },
    {
     "name": "stdout",
     "output_type": "stream",
     "text": [
      "Model: \"model\"\n",
      "__________________________________________________________________________________________________\n",
      " Layer (type)                   Output Shape         Param #     Connected to                     \n",
      "==================================================================================================\n",
      " input_1 (InputLayer)           [(None, 4, 11)]      0           []                               \n",
      "                                                                                                  \n",
      " conv1d (Conv1D)                (None, 2, 512)       17408       ['input_1[0][0]']                \n",
      "                                                                                                  \n",
      " dropout (Dropout)              (None, 2, 512)       0           ['conv1d[0][0]']                 \n",
      "                                                                                                  \n",
      " conv1d_1 (Conv1D)              (None, 1, 256)       262400      ['dropout[0][0]']                \n",
      "                                                                                                  \n",
      " dropout_1 (Dropout)            (None, 1, 256)       0           ['conv1d_1[0][0]']               \n",
      "                                                                                                  \n",
      " conv1d_2 (Conv1D)              (None, 1, 128)       32896       ['dropout_1[0][0]']              \n",
      "                                                                                                  \n",
      " dropout_2 (Dropout)            (None, 1, 128)       0           ['conv1d_2[0][0]']               \n",
      "                                                                                                  \n",
      " multi_head_attention (MultiHea  (None, 1, 128)      329728      ['dropout_2[0][0]',              \n",
      " dAttention)                                                      'dropout_2[0][0]']              \n",
      "                                                                                                  \n",
      " dropout_3 (Dropout)            (None, 1, 128)       0           ['multi_head_attention[0][0]']   \n",
      "                                                                                                  \n",
      " tf.__operators__.add (TFOpLamb  (None, 1, 128)      0           ['dropout_3[0][0]',              \n",
      " da)                                                              'dropout_2[0][0]']              \n",
      "                                                                                                  \n",
      " conv1d_3 (Conv1D)              (None, 1, 4)         516         ['tf.__operators__.add[0][0]']   \n",
      "                                                                                                  \n",
      " dropout_4 (Dropout)            (None, 1, 4)         0           ['conv1d_3[0][0]']               \n",
      "                                                                                                  \n",
      " conv1d_4 (Conv1D)              (None, 1, 128)       640         ['dropout_4[0][0]']              \n",
      "                                                                                                  \n",
      " tf.__operators__.add_1 (TFOpLa  (None, 1, 128)      0           ['conv1d_4[0][0]',               \n",
      " mbda)                                                            'tf.__operators__.add[0][0]']   \n",
      "                                                                                                  \n",
      " multi_head_attention_1 (MultiH  (None, 1, 128)      329728      ['tf.__operators__.add_1[0][0]', \n",
      " eadAttention)                                                    'tf.__operators__.add_1[0][0]'] \n",
      "                                                                                                  \n",
      " dropout_5 (Dropout)            (None, 1, 128)       0           ['multi_head_attention_1[0][0]'] \n",
      "                                                                                                  \n",
      " tf.__operators__.add_2 (TFOpLa  (None, 1, 128)      0           ['dropout_5[0][0]',              \n",
      " mbda)                                                            'tf.__operators__.add_1[0][0]'] \n",
      "                                                                                                  \n",
      " conv1d_5 (Conv1D)              (None, 1, 4)         516         ['tf.__operators__.add_2[0][0]'] \n",
      "                                                                                                  \n",
      " dropout_6 (Dropout)            (None, 1, 4)         0           ['conv1d_5[0][0]']               \n",
      "                                                                                                  \n",
      " conv1d_6 (Conv1D)              (None, 1, 128)       640         ['dropout_6[0][0]']              \n",
      "                                                                                                  \n",
      " tf.__operators__.add_3 (TFOpLa  (None, 1, 128)      0           ['conv1d_6[0][0]',               \n",
      " mbda)                                                            'tf.__operators__.add_2[0][0]'] \n",
      "                                                                                                  \n",
      " multi_head_attention_2 (MultiH  (None, 1, 128)      329728      ['tf.__operators__.add_3[0][0]', \n",
      " eadAttention)                                                    'tf.__operators__.add_3[0][0]'] \n",
      "                                                                                                  \n",
      " dropout_7 (Dropout)            (None, 1, 128)       0           ['multi_head_attention_2[0][0]'] \n",
      "                                                                                                  \n",
      " tf.__operators__.add_4 (TFOpLa  (None, 1, 128)      0           ['dropout_7[0][0]',              \n",
      " mbda)                                                            'tf.__operators__.add_3[0][0]'] \n",
      "                                                                                                  \n",
      " conv1d_7 (Conv1D)              (None, 1, 4)         516         ['tf.__operators__.add_4[0][0]'] \n",
      "                                                                                                  \n",
      " dropout_8 (Dropout)            (None, 1, 4)         0           ['conv1d_7[0][0]']               \n",
      "                                                                                                  \n",
      " conv1d_8 (Conv1D)              (None, 1, 128)       640         ['dropout_8[0][0]']              \n",
      "                                                                                                  \n",
      " tf.__operators__.add_5 (TFOpLa  (None, 1, 128)      0           ['conv1d_8[0][0]',               \n",
      " mbda)                                                            'tf.__operators__.add_4[0][0]'] \n",
      "                                                                                                  \n",
      " multi_head_attention_3 (MultiH  (None, 1, 128)      329728      ['tf.__operators__.add_5[0][0]', \n",
      " eadAttention)                                                    'tf.__operators__.add_5[0][0]'] \n",
      "                                                                                                  \n",
      " dropout_9 (Dropout)            (None, 1, 128)       0           ['multi_head_attention_3[0][0]'] \n",
      "                                                                                                  \n",
      " tf.__operators__.add_6 (TFOpLa  (None, 1, 128)      0           ['dropout_9[0][0]',              \n",
      " mbda)                                                            'tf.__operators__.add_5[0][0]'] \n",
      "                                                                                                  \n",
      " conv1d_9 (Conv1D)              (None, 1, 4)         516         ['tf.__operators__.add_6[0][0]'] \n",
      "                                                                                                  \n",
      " dropout_10 (Dropout)           (None, 1, 4)         0           ['conv1d_9[0][0]']               \n",
      "                                                                                                  \n",
      " conv1d_10 (Conv1D)             (None, 1, 128)       640         ['dropout_10[0][0]']             \n",
      "                                                                                                  \n",
      " tf.__operators__.add_7 (TFOpLa  (None, 1, 128)      0           ['conv1d_10[0][0]',              \n"
     ]
    },
    {
     "name": "stdout",
     "output_type": "stream",
     "text": [
      " mbda)                                                            'tf.__operators__.add_6[0][0]'] \n",
      "                                                                                                  \n",
      " bidirectional (Bidirectional)  (None, 1, 128)       98816       ['tf.__operators__.add_7[0][0]'] \n",
      "                                                                                                  \n",
      " bidirectional_1 (Bidirectional  (None, 128)         98816       ['bidirectional[0][0]']          \n",
      " )                                                                                                \n",
      "                                                                                                  \n",
      " dense (Dense)                  (None, 128)          16512       ['bidirectional_1[0][0]']        \n",
      "                                                                                                  \n",
      " dropout_11 (Dropout)           (None, 128)          0           ['dense[0][0]']                  \n",
      "                                                                                                  \n",
      " dense_1 (Dense)                (None, 3)            387         ['dropout_11[0][0]']             \n",
      "                                                                                                  \n",
      "==================================================================================================\n",
      "Total params: 1,850,771\n",
      "Trainable params: 1,850,771\n",
      "Non-trainable params: 0\n",
      "__________________________________________________________________________________________________\n",
      "Epoch 1/15\n",
      "6769/6769 [==============================] - 174s 25ms/step - loss: 0.3620 - sparse_categorical_accuracy: 0.8535 - val_loss: 0.3045 - val_sparse_categorical_accuracy: 0.8764\n",
      "Epoch 2/15\n",
      "6769/6769 [==============================] - 169s 25ms/step - loss: 0.3117 - sparse_categorical_accuracy: 0.8725 - val_loss: 0.2864 - val_sparse_categorical_accuracy: 0.8823\n",
      "Epoch 3/15\n",
      "6769/6769 [==============================] - 170s 25ms/step - loss: 0.2954 - sparse_categorical_accuracy: 0.8794 - val_loss: 0.2727 - val_sparse_categorical_accuracy: 0.8864\n",
      "Epoch 4/15\n",
      "6769/6769 [==============================] - 172s 25ms/step - loss: 0.2835 - sparse_categorical_accuracy: 0.8835 - val_loss: 0.2736 - val_sparse_categorical_accuracy: 0.8889\n",
      "Epoch 5/15\n",
      "6769/6769 [==============================] - 173s 26ms/step - loss: 0.2745 - sparse_categorical_accuracy: 0.8862 - val_loss: 0.2663 - val_sparse_categorical_accuracy: 0.8886\n",
      "Epoch 6/15\n",
      "6769/6769 [==============================] - 177s 26ms/step - loss: 0.2672 - sparse_categorical_accuracy: 0.8899 - val_loss: 0.2599 - val_sparse_categorical_accuracy: 0.8937\n",
      "Epoch 7/15\n",
      "6769/6769 [==============================] - 175s 26ms/step - loss: 0.2616 - sparse_categorical_accuracy: 0.8919 - val_loss: 0.2553 - val_sparse_categorical_accuracy: 0.8958\n",
      "Epoch 8/15\n",
      "6769/6769 [==============================] - 177s 26ms/step - loss: 0.2565 - sparse_categorical_accuracy: 0.8932 - val_loss: 0.2526 - val_sparse_categorical_accuracy: 0.8968\n",
      "Epoch 9/15\n",
      "6769/6769 [==============================] - 179s 26ms/step - loss: 0.2525 - sparse_categorical_accuracy: 0.8964 - val_loss: 0.2542 - val_sparse_categorical_accuracy: 0.8955\n",
      "Epoch 10/15\n",
      "6769/6769 [==============================] - 179s 26ms/step - loss: 0.2524 - sparse_categorical_accuracy: 0.8965 - val_loss: 0.2526 - val_sparse_categorical_accuracy: 0.8973\n",
      "Epoch 11/15\n",
      "6769/6769 [==============================] - 178s 26ms/step - loss: 0.2469 - sparse_categorical_accuracy: 0.8987 - val_loss: 0.2468 - val_sparse_categorical_accuracy: 0.8996\n",
      "Epoch 12/15\n",
      "6769/6769 [==============================] - 181s 27ms/step - loss: 0.2574 - sparse_categorical_accuracy: 0.8963 - val_loss: 0.2578 - val_sparse_categorical_accuracy: 0.8974\n",
      "Epoch 13/15\n",
      "6769/6769 [==============================] - 185s 27ms/step - loss: 0.2558 - sparse_categorical_accuracy: 0.8964 - val_loss: 0.2518 - val_sparse_categorical_accuracy: 0.8979\n",
      "Epoch 14/15\n",
      "6769/6769 [==============================] - 187s 28ms/step - loss: 0.2577 - sparse_categorical_accuracy: 0.8945 - val_loss: 0.2614 - val_sparse_categorical_accuracy: 0.8944\n",
      "Epoch 15/15\n",
      "6769/6769 [==============================] - 186s 27ms/step - loss: 0.2555 - sparse_categorical_accuracy: 0.8947 - val_loss: 0.2538 - val_sparse_categorical_accuracy: 0.8940\n",
      "2190/2190 [==============================] - 22s 10ms/step - loss: 0.2653 - sparse_categorical_accuracy: 0.8888\n",
      "Test loss: 0.2652840316295624\n",
      "Test accuracy: 0.8888064622879028\n"
     ]
    },
    {
     "data": {
      "image/png": "[encoded data removed]",
      "text/plain": [
       "<Figure size 720x360 with 2 Axes>"
      ]
     },
     "metadata": {},
     "output_type": "display_data"
    },
    {
     "name": "stdout",
     "output_type": "stream",
     "text": [
      "[[50053     0  2770]\n",
      " [   13  3000    59]\n",
      " [ 4939    11  9231]]\n",
      "[[9.47560722e-01 0.00000000e+00 5.24392783e-02]\n",
      " [4.23177083e-03 9.76562500e-01 1.92057292e-02]\n",
      " [3.48282914e-01 7.75685777e-04 6.50941400e-01]]\n"
     ]
    },
    {
     "data": {
      "image/png": "[encoded data removed]",
      "text/plain": [
       "<Figure size 720x360 with 2 Axes>"
      ]
     },
     "metadata": {},
     "output_type": "display_data"
    }
   ],
   "source": [
    "input_shape = x_train.shape[1:]\n",
    "\n",
    "model = build_model(\n",
    "    input_shape,\n",
    "    head_size=128,\n",
    "    num_heads=5, #2,5\n",
    "    ff_dim=4, # Hidden layer size in feed forward network inside transformer\n",
    "    num_transformer_blocks=4,\n",
    "    mlp_units=[128], #128\n",
    "    n_classes=3,\n",
    "    mlp_dropout=0.2, #0.4,0.2\n",
    "    dropout=0.1, #0.25,0.1\n",
    ")\n",
    "\n",
    "model.compile(\n",
    "    loss=\"sparse_categorical_crossentropy\",\n",
    "    optimizer=keras.optimizers.Adam(learning_rate=1e-4),\n",
    "    metrics=[\"sparse_categorical_accuracy\"],\n",
    ")\n",
    "model.summary()\n",
    "\n",
    "callbacks = [keras.callbacks.EarlyStopping(patience=10, restore_best_weights=True)]\n",
    "\n",
    "history = model.fit(\n",
    "    x_train,\n",
    "    y_train,\n",
    "    #validation_split=0.2,\n",
    "    validation_data=(x_val, y_val),\n",
    "    epochs=15,\n",
    "    batch_size=32, #64, 32, 16, 8\n",
    "    callbacks=callbacks,\n",
    ")\n",
    "history_dict = history.history\n",
    "history_dict.keys()\n",
    "\n",
    "# Evaluation\n",
    "results = model.evaluate(x_test, y_test, verbose=1)\n",
    "#print (\"Accuracy on test set:\" , results)\n",
    "print('Test loss:', results[0])\n",
    "print('Test accuracy:', results[1])\n",
    "\n",
    "# Visualization\n",
    "visResultT(history)\n",
    "\n",
    "# Confusion Matrix\n",
    "visConfusionMatrix(model, x_test, y_test)"
   ]
  },
  {
   "cell_type": "code",
   "execution_count": null,
   "metadata": {
    "id": "5t02I5VezqFQ"
   },
   "outputs": [],
   "source": []
  }
 ],
 "metadata": {
  "colab": {
   "collapsed_sections": [],
   "provenance": []
  },
  "kernelspec": {
   "display_name": "Python 3 (ipykernel)",
   "language": "python",
   "name": "python3"
  },
  "language_info": {
   "codemirror_mode": {
    "name": "ipython",
    "version": 3
   },
   "file_extension": ".py",
   "mimetype": "text/x-python",
   "name": "python",
   "nbconvert_exporter": "python",
   "pygments_lexer": "ipython3",
   "version": "3.9.7"
  }
 },
 "nbformat": 4,
 "nbformat_minor": 1
}
